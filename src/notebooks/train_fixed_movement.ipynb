{
 "cells": [
  {
   "cell_type": "code",
   "execution_count": 8,
   "id": "4059202b",
   "metadata": {},
   "outputs": [],
   "source": [
    "import pandas as pd\n",
    "\n",
    "# Load your Excel file\n",
    "data = pd.read_csv(r\"D:\\Graduation Project\\data\\hand_gesture_project\\data\\augmented_sensor_data_300k.csv\")"
   ]
  },
  {
   "cell_type": "code",
   "execution_count": 9,
   "id": "603d1bc1",
   "metadata": {},
   "outputs": [],
   "source": [
    "# Clean column names\n",
    "data.columns = data.columns.str.strip().str.lower().str.replace(\" \", \"_\")\n",
    "\n",
    "# Drop missing values\n",
    "data_cleaned = data.dropna()\n",
    "\n",
    "# Define numerical features\n",
    "features = ['accel_x', 'accel_y', 'accel_z', 'gyro_x', 'gyro_y', 'gyro_z']\n"
   ]
  },
  {
   "cell_type": "code",
   "execution_count": 10,
   "id": "4d6e6115",
   "metadata": {},
   "outputs": [],
   "source": [
    "# Extract features and labels\n",
    "features = ['accel_x', 'accel_y', 'accel_z', 'gyro_x', 'gyro_y', 'gyro_z']\n",
    "X_raw = data[features]\n",
    "y_raw = data['lable']\n",
    "\n",
    "\n",
    "# Recreate the DataFrame with labels\n",
    "normalized_data = pd.DataFrame(X_raw, columns=features)\n",
    "normalized_data['lable'] = y_raw.values"
   ]
  },
  {
   "cell_type": "code",
   "execution_count": 11,
   "id": "9a69426c",
   "metadata": {},
   "outputs": [],
   "source": [
    "import numpy as np\n",
    "\n",
    "def create_sequences(data, features, window_size=100, stride=50):\n",
    "    sequences = []\n",
    "    labels = []\n",
    "    for label in data['lable'].unique():\n",
    "        class_data = data[data['lable'] == label]\n",
    "        class_values = class_data[features].values\n",
    "        for start in range(0, len(class_values) - window_size + 1, stride):\n",
    "            end = start + window_size\n",
    "            seq = class_values[start:end]\n",
    "            sequences.append(seq)\n",
    "            labels.append(label)\n",
    "    return np.array(sequences), np.array(labels)\n"
   ]
  },
  {
   "cell_type": "code",
   "execution_count": 12,
   "id": "3bd3f578",
   "metadata": {},
   "outputs": [],
   "source": [
    "# Apply function\n",
    "X_seq, y_seq = create_sequences(normalized_data, features)\n",
    "from sklearn.preprocessing import LabelEncoder\n",
    "\n",
    "label_encoder = LabelEncoder()\n",
    "y_encoded = label_encoder.fit_transform(y_seq)\n",
    "from sklearn.model_selection import train_test_split\n",
    "from sklearn.utils import shuffle"
   ]
  },
  {
   "cell_type": "code",
   "execution_count": 13,
   "id": "fe624a5b",
   "metadata": {},
   "outputs": [],
   "source": [
    "# Shuffle the data\n",
    "X_seq, y_encoded = shuffle(X_seq, y_encoded, random_state=42)"
   ]
  },
  {
   "cell_type": "code",
   "execution_count": 15,
   "id": "257d8d7c",
   "metadata": {},
   "outputs": [],
   "source": [
    "# Split into 80% training, 20% testing\n",
    "X_train, X_test, y_train, y_test = train_test_split(X_seq, y_encoded, test_size=0.2, random_state=42)\n",
    "# Optional if you want to be sure:\n",
    "y_train = y_train.astype('int32')\n",
    "y_test = y_test.astype('int32')"
   ]
  },
  {
   "cell_type": "code",
   "execution_count": 19,
   "id": "39d7af81",
   "metadata": {},
   "outputs": [],
   "source": [
    "from sklearn.preprocessing import StandardScaler\n",
    "import pickle\n",
    "\n",
    "# حول بياناتك من 3D إلى 2D\n",
    "X_train_flat = X_train.reshape(X_train.shape[0], -1)\n",
    "\n",
    "scaler = StandardScaler()\n",
    "scaler.fit(X_train_flat)\n",
    "\n",
    "# احفظ الـ Scaler\n",
    "with open(r\"D:\\Graduation Project\\data\\hand_gesture_project\\models\\scaler1.pkl\", \"wb\") as f:\n",
    "    pickle.dump(scaler, f)\n"
   ]
  },
  {
   "cell_type": "code",
   "execution_count": 24,
   "id": "5bc01b53",
   "metadata": {},
   "outputs": [],
   "source": [
    "from sklearn.ensemble import RandomForestClassifier\n",
    "from sklearn.metrics import accuracy_score, classification_report\n",
    "from sklearn.preprocessing import StandardScaler\n",
    "import pickle\n",
    "\n",
    "# 1. تحويل X_train و X_test من 3D إلى 2D\n",
    "X_train_flat = X_train.reshape(X_train.shape[0], -1)\n",
    "X_test_flat = X_test.reshape(X_test.shape[0], -1)"
   ]
  },
  {
   "cell_type": "code",
   "execution_count": 28,
   "id": "b9669d12",
   "metadata": {},
   "outputs": [],
   "source": [
    "import sys\n",
    "sys.path.append('D:/Graduation Project/data/hand_gesture_project')  # أو حسب المسار الكامل للمشروع عندك"
   ]
  },
  {
   "cell_type": "code",
   "execution_count": 29,
   "id": "ec1084e9",
   "metadata": {},
   "outputs": [],
   "source": [
    "import joblib\n",
    "from src.features.extract_features import extract_features\n",
    "X_train_flat = np.array([extract_features(window) for window in X_train])  # هيكون (num_windows, 36)\n",
    "X_test_flat = np.array([extract_features(window) for window in X_test])  # هيكون (num_windows, 36)"
   ]
  },
  {
   "cell_type": "code",
   "execution_count": 30,
   "id": "26253acf",
   "metadata": {},
   "outputs": [
    {
     "name": "stdout",
     "output_type": "stream",
     "text": [
      "✅ الدقة (Accuracy): 1.0\n",
      "\n",
      "📊 تقرير التصنيف:\n",
      "               precision    recall  f1-score   support\n",
      "\n",
      "           0       1.00      1.00      1.00       220\n",
      "           1       1.00      1.00      1.00       253\n",
      "           2       1.00      1.00      1.00       244\n",
      "           3       1.00      1.00      1.00       264\n",
      "           4       1.00      1.00      1.00       218\n",
      "\n",
      "    accuracy                           1.00      1199\n",
      "   macro avg       1.00      1.00      1.00      1199\n",
      "weighted avg       1.00      1.00      1.00      1199\n",
      "\n",
      "✅ تم حفظ النموذج والسكيلر بنجاح\n"
     ]
    }
   ],
   "source": [
    "\n",
    "\n",
    "# 2. تجهيز السكيلر وتطبيقه\n",
    "scaler = StandardScaler()\n",
    "X_train_scaled = scaler.fit_transform(X_train_flat)\n",
    "X_test_scaled = scaler.transform(X_test_flat)\n",
    "\n",
    "# 3. إنشاء وتدريب النموذج\n",
    "rf_model = RandomForestClassifier(n_estimators=100, random_state=42)\n",
    "rf_model.fit(X_train_scaled, y_train)\n",
    "\n",
    "# 4. التقييم\n",
    "y_pred = rf_model.predict(X_test_scaled)\n",
    "accuracy = accuracy_score(y_test, y_pred)\n",
    "\n",
    "print(\"✅ الدقة (Accuracy):\", accuracy)\n",
    "print(\"\\n📊 تقرير التصنيف:\\n\", classification_report(y_test, y_pred))\n",
    "\n",
    "# 5. حفظ النموذج والسكيلر\n",
    "with open(r\"D:\\Graduation Project\\data\\hand_gesture_project\\models\\random_forest_model.pkl\", \"wb\") as f:\n",
    "    pickle.dump(rf_model, f)\n",
    "\n",
    "with open(r\"D:\\Graduation Project\\data\\hand_gesture_project\\models\\scaler1.pkl\", \"wb\") as f:\n",
    "    pickle.dump(scaler, f)\n",
    "\n",
    "print(\"✅ تم حفظ النموذج والسكيلر بنجاح\")\n"
   ]
  },
  {
   "cell_type": "code",
   "execution_count": 31,
   "id": "39424454",
   "metadata": {},
   "outputs": [],
   "source": [
    "# حفظ المحول LabelEncoder\n",
    "with open(r\"D:\\Graduation Project\\data\\hand_gesture_project\\models\\label_encoder1.pkl\", \"wb\") as f:\n",
    "    pickle.dump(label_encoder, f)"
   ]
  },
  {
   "cell_type": "code",
   "execution_count": null,
   "id": "821b0fcd",
   "metadata": {},
   "outputs": [],
   "source": []
  }
 ],
 "metadata": {
  "kernelspec": {
   "display_name": "Python 3",
   "language": "python",
   "name": "python3"
  },
  "language_info": {
   "codemirror_mode": {
    "name": "ipython",
    "version": 3
   },
   "file_extension": ".py",
   "mimetype": "text/x-python",
   "name": "python",
   "nbconvert_exporter": "python",
   "pygments_lexer": "ipython3",
   "version": "3.10.11"
  }
 },
 "nbformat": 4,
 "nbformat_minor": 5
}
