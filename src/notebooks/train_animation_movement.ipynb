{
 "cells": [
  {
   "cell_type": "code",
   "execution_count": 2,
   "id": "3a82f7d1",
   "metadata": {},
   "outputs": [
    {
     "name": "stdout",
     "output_type": "stream",
     "text": [
      "WARNING:tensorflow:From c:\\Users\\hp zbook\\.conda\\envs\\gess_env\\lib\\site-packages\\keras\\src\\losses.py:2976: The name tf.losses.sparse_softmax_cross_entropy is deprecated. Please use tf.compat.v1.losses.sparse_softmax_cross_entropy instead.\n",
      "\n"
     ]
    }
   ],
   "source": [
    "import pandas as pd\n",
    "import numpy as np\n",
    "from scipy.signal import find_peaks\n",
    "from sklearn.preprocessing import LabelEncoder, StandardScaler\n",
    "from sklearn.model_selection import train_test_split\n",
    "from tensorflow.keras.models import Sequential\n",
    "from tensorflow.keras.layers import LSTM, Dense, Dropout\n",
    "from tensorflow.keras.callbacks import EarlyStopping"
   ]
  },
  {
   "cell_type": "code",
   "execution_count": 3,
   "id": "cc76bea3",
   "metadata": {},
   "outputs": [],
   "source": [
    "paths = {\n",
    "    \"clockwise\": r\"D:\\Graduation Project\\data\\hand_gesture_project\\data\\colck.csv\",\n",
    "    \"anticlockwise\": r\"D:\\Graduation Project\\data\\hand_gesture_project\\data\\inverse.csv\",\n",
    "    \"updown\": r\"D:\\Graduation Project\\data\\hand_gesture_project\\data\\up_down.csv\"\n",
    "}\n",
    "\n",
    "dfs = []\n",
    "for label, path in enumerate(paths.values()):\n",
    "    df = pd.read_csv(path, sep=\";\")\n",
    "    df[\"label\"] = label\n",
    "    dfs.append(df)\n",
    "df_all = pd.concat(dfs, ignore_index=True)"
   ]
  },
  {
   "cell_type": "code",
   "execution_count": 4,
   "id": "7012d6f8",
   "metadata": {},
   "outputs": [],
   "source": [
    "# cleaning data\n",
    "for col in [\"Accel X\", \"Accel Y\", \"Accel Z\", \"Gyro X\", \"Gyro Y\", \"Gyro Z\"]:\n",
    "    df_all[col] = pd.to_numeric(df_all[col], errors='coerce')\n",
    "df_all = df_all.dropna().reset_index(drop=True)"
   ]
  },
  {
   "cell_type": "code",
   "execution_count": 5,
   "id": "cc6f6fc2",
   "metadata": {},
   "outputs": [],
   "source": [
    "# Energy\n",
    "df_all[\"energy\"] = df_all[[\"Accel X\", \"Accel Y\", \"Accel Z\", \"Gyro X\", \"Gyro Y\", \"Gyro Z\"]].pow(2).sum(axis=1)\n",
    "df_all[\"energy_smooth\"] = df_all[\"energy\"].rolling(window=10, center=True).mean()\n"
   ]
  },
  {
   "cell_type": "code",
   "execution_count": 6,
   "id": "2ee04ed2",
   "metadata": {},
   "outputs": [],
   "source": [
    "# knowing peaks\n",
    "peaks, _ = find_peaks(df_all[\"energy_smooth\"], distance=50, prominence=5)\n"
   ]
  },
  {
   "cell_type": "code",
   "execution_count": 7,
   "id": "5098f553",
   "metadata": {},
   "outputs": [],
   "source": [
    "window_size = 50\n",
    "sequences, labels = [], []\n",
    "\n",
    "for peak in peaks:\n",
    "    start = max(peak - window_size // 2, 0)\n",
    "    end = min(peak + window_size // 2, len(df_all))\n",
    "    if end - start == window_size:\n",
    "        segment = df_all.iloc[start:end][[\"Accel X\", \"Accel Y\", \"Accel Z\", \"Gyro X\", \"Gyro Y\", \"Gyro Z\"]].values\n",
    "        sequences.append(segment)\n",
    "        labels.append(df_all.iloc[start:end][\"label\"].mode()[0])  # أكتر label متكرر\n",
    "\n",
    "X = np.array(sequences)\n",
    "y = np.array(labels)"
   ]
  },
  {
   "cell_type": "code",
   "execution_count": 8,
   "id": "da92dc45",
   "metadata": {},
   "outputs": [],
   "source": [
    "scaler = StandardScaler()\n",
    "X_scaled = X.reshape(-1, 6)\n",
    "X_scaled = scaler.fit_transform(X_scaled).reshape(X.shape)\n",
    "\n",
    "le = LabelEncoder()\n",
    "y_encoded = le.fit_transform(y)\n",
    "\n",
    "X_train, X_test, y_train, y_test = train_test_split(X_scaled, y_encoded, test_size=0.2, random_state=42, stratify=y_encoded)\n"
   ]
  },
  {
   "cell_type": "code",
   "execution_count": 9,
   "id": "90bc3025",
   "metadata": {},
   "outputs": [
    {
     "name": "stdout",
     "output_type": "stream",
     "text": [
      "WARNING:tensorflow:From c:\\Users\\hp zbook\\.conda\\envs\\gess_env\\lib\\site-packages\\keras\\src\\backend.py:873: The name tf.get_default_graph is deprecated. Please use tf.compat.v1.get_default_graph instead.\n",
      "\n",
      "WARNING:tensorflow:From c:\\Users\\hp zbook\\.conda\\envs\\gess_env\\lib\\site-packages\\keras\\src\\optimizers\\__init__.py:309: The name tf.train.Optimizer is deprecated. Please use tf.compat.v1.train.Optimizer instead.\n",
      "\n",
      "Model: \"sequential\"\n",
      "_________________________________________________________________\n",
      " Layer (type)                Output Shape              Param #   \n",
      "=================================================================\n",
      " lstm (LSTM)                 (None, 50, 128)           69120     \n",
      "                                                                 \n",
      " lstm_1 (LSTM)               (None, 64)                49408     \n",
      "                                                                 \n",
      " dropout (Dropout)           (None, 64)                0         \n",
      "                                                                 \n",
      " dense (Dense)               (None, 32)                2080      \n",
      "                                                                 \n",
      " dense_1 (Dense)             (None, 3)                 99        \n",
      "                                                                 \n",
      "=================================================================\n",
      "Total params: 120707 (471.51 KB)\n",
      "Trainable params: 120707 (471.51 KB)\n",
      "Non-trainable params: 0 (0.00 Byte)\n",
      "_________________________________________________________________\n"
     ]
    }
   ],
   "source": [
    "model = Sequential()\n",
    "model.add(LSTM(128, return_sequences=True, input_shape=(window_size, 6)))\n",
    "model.add(LSTM(64))\n",
    "model.add(Dropout(0.5))\n",
    "model.add(Dense(32, activation='relu'))\n",
    "model.add(Dense(len(np.unique(y_encoded)), activation='softmax'))\n",
    "\n",
    "model.compile(optimizer='adam', loss='sparse_categorical_crossentropy', metrics=['accuracy'])\n",
    "model.summary()"
   ]
  },
  {
   "cell_type": "code",
   "execution_count": 10,
   "id": "d11c23c8",
   "metadata": {},
   "outputs": [
    {
     "name": "stdout",
     "output_type": "stream",
     "text": [
      "Epoch 1/30\n",
      "WARNING:tensorflow:From c:\\Users\\hp zbook\\.conda\\envs\\gess_env\\lib\\site-packages\\keras\\src\\utils\\tf_utils.py:492: The name tf.ragged.RaggedTensorValue is deprecated. Please use tf.compat.v1.ragged.RaggedTensorValue instead.\n",
      "\n",
      "WARNING:tensorflow:From c:\\Users\\hp zbook\\.conda\\envs\\gess_env\\lib\\site-packages\\keras\\src\\engine\\base_layer_utils.py:384: The name tf.executing_eagerly_outside_functions is deprecated. Please use tf.compat.v1.executing_eagerly_outside_functions instead.\n",
      "\n",
      "10/10 [==============================] - 5s 149ms/step - loss: 0.8307 - accuracy: 0.8323 - val_loss: 0.3909 - val_accuracy: 1.0000\n",
      "Epoch 2/30\n",
      "10/10 [==============================] - 0s 42ms/step - loss: 0.2156 - accuracy: 0.9937 - val_loss: 0.1269 - val_accuracy: 0.9873\n",
      "Epoch 3/30\n",
      "10/10 [==============================] - 0s 40ms/step - loss: 0.0406 - accuracy: 1.0000 - val_loss: 0.1566 - val_accuracy: 0.9747\n",
      "Epoch 4/30\n",
      "10/10 [==============================] - 0s 40ms/step - loss: 0.0258 - accuracy: 0.9968 - val_loss: 0.1739 - val_accuracy: 0.9747\n",
      "Epoch 5/30\n",
      "10/10 [==============================] - 0s 41ms/step - loss: 0.0253 - accuracy: 0.9968 - val_loss: 0.2712 - val_accuracy: 0.9620\n",
      "Epoch 6/30\n",
      "10/10 [==============================] - 0s 40ms/step - loss: 0.0249 - accuracy: 0.9968 - val_loss: 0.2862 - val_accuracy: 0.9620\n",
      "Epoch 7/30\n",
      "10/10 [==============================] - 0s 38ms/step - loss: 0.0239 - accuracy: 0.9968 - val_loss: 0.2973 - val_accuracy: 0.9620\n"
     ]
    },
    {
     "data": {
      "text/plain": [
       "<keras.src.callbacks.History at 0x1b4fbb39600>"
      ]
     },
     "execution_count": 10,
     "metadata": {},
     "output_type": "execute_result"
    }
   ],
   "source": [
    "es = EarlyStopping(monitor='val_loss', patience=5, restore_best_weights=True)\n",
    "model.fit(X_train, y_train, epochs=30, batch_size=32, validation_split=0.2, callbacks=[es])\n"
   ]
  },
  {
   "cell_type": "code",
   "execution_count": 11,
   "id": "23e73774",
   "metadata": {},
   "outputs": [],
   "source": [
    "# الفكرة: لو الثقة (probability) أقل من عتبة معينة، متعملش prediction\n",
    "def safe_predict(model, sample, threshold=0.7):\n",
    "    probs = model.predict(sample.reshape(1, window_size, 6))[0]\n",
    "    if np.max(probs) < threshold:\n",
    "        return \"Unknown Movement ❌\"\n",
    "    else:\n",
    "        return le.inverse_transform([np.argmax(probs)])[0]\n"
   ]
  },
  {
   "cell_type": "code",
   "execution_count": 12,
   "id": "ad2d1b72",
   "metadata": {},
   "outputs": [
    {
     "name": "stderr",
     "output_type": "stream",
     "text": [
      "c:\\Users\\hp zbook\\.conda\\envs\\gess_env\\lib\\site-packages\\keras\\src\\engine\\training.py:3103: UserWarning: You are saving your model as an HDF5 file via `model.save()`. This file format is considered legacy. We recommend using instead the native Keras format, e.g. `model.save('my_model.keras')`.\n",
      "  saving_api.save_model(\n"
     ]
    }
   ],
   "source": [
    "import joblib\n",
    "joblib.dump(scaler, r\"D:\\Graduation Project\\data\\hand_gesture_project\\models\\scaler2.pkl\")\n",
    "joblib.dump(le, r\"D:\\Graduation Project\\data\\hand_gesture_project\\models\\label_encoder2.pkl\")\n",
    "\n",
    "from tensorflow.keras.models import load_model\n",
    "\n",
    "# حفظ الموديل بصيغة HDF5 (المفضلة مع Keras)\n",
    "model.save(r\"D:\\Graduation Project\\data\\hand_gesture_project\\models\\gesture_lstm_model.h5\")"
   ]
  },
  {
   "cell_type": "code",
   "execution_count": null,
   "id": "0fb3ed07",
   "metadata": {},
   "outputs": [],
   "source": []
  }
 ],
 "metadata": {
  "kernelspec": {
   "display_name": "Python 3",
   "language": "python",
   "name": "python3"
  },
  "language_info": {
   "codemirror_mode": {
    "name": "ipython",
    "version": 3
   },
   "file_extension": ".py",
   "mimetype": "text/x-python",
   "name": "python",
   "nbconvert_exporter": "python",
   "pygments_lexer": "ipython3",
   "version": "3.10.11"
  }
 },
 "nbformat": 4,
 "nbformat_minor": 5
}
